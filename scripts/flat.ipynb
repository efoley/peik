{
 "cells": [
  {
   "cell_type": "code",
   "execution_count": 1,
   "metadata": {},
   "outputs": [],
   "source": [
    "import jax\n",
    "import jax.numpy as jnp\n",
    "\n",
    "import matplotlib.pyplot as plt\n",
    "import numpy as np"
   ]
  },
  {
   "cell_type": "code",
   "execution_count": 2,
   "metadata": {},
   "outputs": [],
   "source": [
    "seed = 1235256\n",
    "\n",
    "width = 300\n",
    "\n",
    "num_start_points = 17"
   ]
  },
  {
   "cell_type": "code",
   "execution_count": 3,
   "metadata": {},
   "outputs": [],
   "source": [
    "key = jax.random.PRNGKey(seed)\n",
    "start_xy = jax.random.randint(key, shape=(17, 2), minval=0, maxval=width)"
   ]
  },
  {
   "cell_type": "code",
   "execution_count": 4,
   "metadata": {},
   "outputs": [
    {
     "data": {
      "text/plain": [
       "Array([[190, 217],\n",
       "       [206,  74],\n",
       "       [169,  16],\n",
       "       [ 50, 124],\n",
       "       [155,   3],\n",
       "       [223, 243],\n",
       "       [211,  81],\n",
       "       [180, 204],\n",
       "       [191,  83],\n",
       "       [ 17,  71],\n",
       "       [150,  19],\n",
       "       [286,  79],\n",
       "       [183, 277],\n",
       "       [183, 105],\n",
       "       [270, 198],\n",
       "       [ 62,  24],\n",
       "       [240,  38]], dtype=int32)"
      ]
     },
     "execution_count": 4,
     "metadata": {},
     "output_type": "execute_result"
    }
   ],
   "source": [
    "jax.random.permutation(key, start_xy, independent=False)"
   ]
  },
  {
   "cell_type": "code",
   "execution_count": 5,
   "metadata": {},
   "outputs": [],
   "source": [
    "# see https://github.com/google/jax/blob/main/cloud_tpu_colabs/Wave_Equation.ipynb\n",
    "\n",
    "\n",
    "def axis_slice(ndim, index, axis):\n",
    "    slices = [slice(None)] * ndim\n",
    "    slices[axis] = index\n",
    "    return tuple(slices)\n",
    "\n",
    "\n",
    "def slice_along_axis(array, index, axis):\n",
    "    return array[axis_slice(array.ndim, index, axis)]\n",
    "\n",
    "\n",
    "def shift(array, offset, axis):\n",
    "    \"\"\"\n",
    "    Shift the array with zero-padding.\n",
    "\n",
    "    Args:\n",
    "      offset: if positive, shift to the left; otherwise, shift to the right\n",
    "    \"\"\"\n",
    "    index = slice(offset, None) if offset >= 0 else slice(None, offset)\n",
    "    sliced = slice_along_axis(array, index, axis)\n",
    "    padding = [(0, 0)] * array.ndim\n",
    "    padding[axis] = (-min(offset, 0), max(offset, 0))\n",
    "    return jnp.pad(sliced, padding, mode=\"constant\", constant_values=0)"
   ]
  },
  {
   "cell_type": "code",
   "execution_count": 6,
   "metadata": {},
   "outputs": [],
   "source": [
    "@jax.jit\n",
    "def compute_boundary_mask(arr):\n",
    "    \"\"\"\n",
    "    Return a mask of the boundary points.\n",
    "\n",
    "    This will be true where a zero borders a non-zero.\n",
    "    \"\"\"\n",
    "    mask = jnp.zeros_like(arr, dtype=bool)\n",
    "\n",
    "    mask = mask.at[1:, :].set(jnp.logical_or(arr[:-1, :] != 0, mask[1:, :]))\n",
    "    mask = mask.at[:-1, :].set(jnp.logical_or(arr[1:, :] != 0, mask[:-1, :]))\n",
    "    mask = mask.at[:, 1:].set(jnp.logical_or(arr[:, :-1] != 0, mask[:, 1:]))\n",
    "    mask = mask.at[:, :-1].set(jnp.logical_or(arr[:, 1:] != 0, mask[:, :-1]))\n",
    "\n",
    "    mask = mask & (arr == 0)\n",
    "\n",
    "    return mask\n",
    "\n",
    "\n",
    "@jax.jit\n",
    "def update(image, mask):\n",
    "    image_xm = shift(image, -1, 0)\n",
    "    image_xp = shift(image, 1, 0)\n",
    "    image_ym = shift(image, -1, 1)\n",
    "    image_yp = shift(image, 1, 1)\n",
    "\n",
    "    # note that the order of updates here should be randomized\n",
    "    image = jnp.where(mask & (image_xm != 0), image_xm, image)\n",
    "    image = jnp.where(mask & (image_xp != 0), image_xp, image)\n",
    "    image = jnp.where(mask & (image_ym != 0), image_ym, image)\n",
    "    image = jnp.where(mask & (image_yp != 0), image_yp, image)\n",
    "\n",
    "    return image\n",
    "\n",
    "\n",
    "def create_image(width: int, start_xy, rand_key):\n",
    "    key = rand_key\n",
    "\n",
    "    # create an image array\n",
    "    image = np.zeros((width, width), dtype=np.float32)\n",
    "\n",
    "    # set the start points\n",
    "    for tag in range(num_start_points):\n",
    "        image[start_xy[tag, 0], start_xy[tag, 1]] = tag\n",
    "\n",
    "    num_pixels = image.shape[0] * image.shape[1]\n",
    "\n",
    "    # approx_num_iters = 100\n",
    "    # pixels_per_chunk = num_pixels // approx_num_iters\n",
    "    pixels_per_chunk = 100\n",
    "\n",
    "    iter = 0\n",
    "    while iter < 1000 and (num_filled := jnp.count_nonzero(image != 0)) != num_pixels:\n",
    "        filled_pct = 100.0 * (num_filled / num_pixels)\n",
    "\n",
    "        # figure out candidate points for update\n",
    "        boundary_mask = compute_boundary_mask(image)\n",
    "        front_x, front_y = np.nonzero(boundary_mask)\n",
    "        front_xy = jnp.stack((front_x, front_y), axis=1)\n",
    "\n",
    "        print(\n",
    "            f\"iter {iter:05}, len(front_xy) {len(front_xy):05}, filled_pct {filled_pct:0.3f}\\r\",\n",
    "            end=\"\",\n",
    "            flush=True,\n",
    "        )\n",
    "\n",
    "\n",
    "\n",
    "        # randomly choose a subset to process\n",
    "        front_xy = jax.random.permutation(key, front_xy)\n",
    "        # TODO EDF just process in fixed chunk sizes\n",
    "        # proc_index = jax.random.randint(\n",
    "        #     key, shape=(1,), minval=1, maxval=len(front_xy)\n",
    "        # )[0]\n",
    "        proc_index = min(pixels_per_chunk, len(front_xy))\n",
    "        upd_xy = front_xy[:proc_index]\n",
    "\n",
    "        update_mask = jnp.zeros_like(image, dtype=bool)\n",
    "        update_mask = update_mask.at[upd_xy[:, 0], upd_xy[:, 1]].set(True)\n",
    "\n",
    "        image = update(image, update_mask)\n",
    "\n",
    "        # # determine changed points\n",
    "        # changed_x, changed_y = jnp.nonzero(prev_image != image)\n",
    "        # changed_xy = jnp.stack((changed_x, changed_y), axis=1)\n",
    "\n",
    "\n",
    "\n",
    "        # # add new points to the frontier\n",
    "        # front_xy = jnp.concatenate((pend_xy, changed_xy), axis=0)\n",
    "\n",
    "        iter += 1\n",
    "\n",
    "    return image"
   ]
  },
  {
   "cell_type": "code",
   "execution_count": 7,
   "metadata": {},
   "outputs": [
    {
     "name": "stdout",
     "output_type": "stream",
     "text": [
      "iter 00929, len(front_xy) 00001, filled_pct 99.999\r"
     ]
    },
    {
     "data": {
      "text/plain": [
       "<matplotlib.image.AxesImage at 0x7f82d078a8d0>"
      ]
     },
     "execution_count": 7,
     "metadata": {},
     "output_type": "execute_result"
    },
    {
     "data": {
      "image/png": "[encoded data removed]",
      "text/plain": [
       "<Figure size 640x480 with 1 Axes>"
      ]
     },
     "metadata": {},
     "output_type": "display_data"
    }
   ],
   "source": [
    "img = create_image(width, start_xy, key)\n",
    "plt.imshow(img)"
   ]
  },
  {
   "cell_type": "code",
   "execution_count": 8,
   "metadata": {},
   "outputs": [
    {
     "data": {
      "text/plain": [
       "<matplotlib.image.AxesImage at 0x7f826608a840>"
      ]
     },
     "execution_count": 8,
     "metadata": {},
     "output_type": "execute_result"
    },
    {
     "data": {
      "image/png": "[encoded data removed]",
      "text/plain": [
       "<Figure size 640x480 with 1 Axes>"
      ]
     },
     "metadata": {},
     "output_type": "display_data"
    }
   ],
   "source": [
    "plt.imshow(compute_boundary_mask(img))"
   ]
  },
  {
   "cell_type": "code",
   "execution_count": 9,
   "metadata": {},
   "outputs": [
    {
     "data": {
      "text/plain": [
       "Array([[1, 5],\n",
       "       [2, 6],\n",
       "       [3, 7],\n",
       "       [4, 8]], dtype=int32)"
      ]
     },
     "execution_count": 9,
     "metadata": {},
     "output_type": "execute_result"
    }
   ],
   "source": [
    "upd_x = jnp.array([1,2,3,4])\n",
    "upd_y = jnp.array([5,6,7,8])\n",
    "\n",
    "jnp.stack((upd_x, upd_y), axis=1)"
   ]
  },
  {
   "cell_type": "code",
   "execution_count": 10,
   "metadata": {},
   "outputs": [
    {
     "ename": "NameError",
     "evalue": "name 'image' is not defined",
     "output_type": "error",
     "traceback": [
      "\u001b[0;31m---------------------------------------------------------------------------\u001b[0m",
      "\u001b[0;31mNameError\u001b[0m                                 Traceback (most recent call last)",
      "\u001b[1;32m/home/eric/development/pymir/scripts/flat.ipynb Cell 10\u001b[0m line \u001b[0;36m1\n\u001b[0;32m----> <a href='vscode-notebook-cell:/home/eric/development/pymir/scripts/flat.ipynb#X30sZmlsZQ%3D%3D?line=0'>1</a>\u001b[0m image\n",
      "\u001b[0;31mNameError\u001b[0m: name 'image' is not defined"
     ]
    }
   ],
   "source": [
    "image"
   ]
  },
  {
   "cell_type": "code",
   "execution_count": null,
   "metadata": {},
   "outputs": [],
   "source": [
    "img = jnp.zeros((20,20))\n",
    "img = img.at[7, 7].set(1)\n",
    "img = img.at[7, 8].set(1)"
   ]
  },
  {
   "cell_type": "code",
   "execution_count": null,
   "metadata": {},
   "outputs": [],
   "source": [
    "\n"
   ]
  },
  {
   "cell_type": "code",
   "execution_count": null,
   "metadata": {},
   "outputs": [],
   "source": [
    "plt.imshow(img)"
   ]
  },
  {
   "cell_type": "code",
   "execution_count": null,
   "metadata": {},
   "outputs": [],
   "source": [
    "plt.imshow(boundary_mask(img))"
   ]
  },
  {
   "cell_type": "code",
   "execution_count": null,
   "metadata": {},
   "outputs": [],
   "source": []
  }
 ],
 "metadata": {
  "kernelspec": {
   "display_name": "pymir",
   "language": "python",
   "name": "python3"
  },
  "language_info": {
   "codemirror_mode": {
    "name": "ipython",
    "version": 3
   },
   "file_extension": ".py",
   "mimetype": "text/x-python",
   "name": "python",
   "nbconvert_exporter": "python",
   "pygments_lexer": "ipython3",
   "version": "3.12.0"
  }
 },
 "nbformat": 4,
 "nbformat_minor": 2
}
